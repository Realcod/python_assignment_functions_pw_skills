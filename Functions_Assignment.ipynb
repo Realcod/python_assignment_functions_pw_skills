{
 "cells": [
  {
   "cell_type": "code",
   "execution_count": 1,
   "id": "ade65b07-13a3-427c-958f-2a97d264741d",
   "metadata": {},
   "outputs": [
    {
     "name": "stdout",
     "output_type": "stream",
     "text": [
      "This is a function.\n"
     ]
    }
   ],
   "source": [
    "#1) What is the difference between a function and a method in Python?\n",
    "\n",
    "#Function: A function is a block of code that is defined independently and can be called anywhere in the code.\n",
    "#Functions are not tied to any object or class.\n",
    "def my_function():\n",
    "    print(\"This is a function.\")\n",
    "    \n",
    "my_function() \n"
   ]
  },
  {
   "cell_type": "code",
   "execution_count": 2,
   "id": "332495e9-2295-4292-b9a3-8cedb2968b55",
   "metadata": {},
   "outputs": [
    {
     "name": "stdout",
     "output_type": "stream",
     "text": [
      "This is a method.\n"
     ]
    }
   ],
   "source": [
    "#Method is a function that is associated with an object and belongs to a class. \n",
    "#In other words, methods are functions defined inside a class and can only be called on an instance(or the class itself, \n",
    "#in the case of class methods) of that class.\n",
    "class MyClass:\n",
    "    def my_method(self):\n",
    "        print(\"This is a method.\")\n",
    "        \n",
    "obj = MyClass()  \n",
    "obj.my_method() \n"
   ]
  },
  {
   "cell_type": "code",
   "execution_count": 3,
   "id": "5e204fcb-2718-4b5d-bda1-a9a2af86168e",
   "metadata": {},
   "outputs": [],
   "source": [
    "#2)  Explain the concept of function arguments and parameters in Python.\n",
    "#Parameters are the variables listed inside the parentheses in the function definition.\n",
    "#They are placeholders for the values (arguments) that the function will operate on when it is called.\n",
    "\n",
    "def greet(name):  # 'name' is a parameter\n",
    "    print(f\"Hello, {name}!\")\n"
   ]
  },
  {
   "cell_type": "code",
   "execution_count": 4,
   "id": "73bdbb53-ec01-49bd-b485-61df9f1436d1",
   "metadata": {},
   "outputs": [
    {
     "name": "stdout",
     "output_type": "stream",
     "text": [
      "Hello, Alice!\n"
     ]
    }
   ],
   "source": [
    "#Arguments are the actual values or data passed to a function when it is called.\n",
    "#The values of the arguments are assigned to the corresponding parameters in the function definition.\n",
    "greet(\"Alice\")  "
   ]
  },
  {
   "cell_type": "code",
   "execution_count": 9,
   "id": "33fe9906-e00e-4b25-a722-06bcde2c3cf5",
   "metadata": {},
   "outputs": [
    {
     "name": "stdout",
     "output_type": "stream",
     "text": [
      "Hello, Yash!\n"
     ]
    }
   ],
   "source": [
    "#3) What are the different ways to define and call a function in Python?\n",
    "\n",
    "def greet(name):\n",
    "    return f\"Hello, {name}!\"\n",
    "\n",
    "print(greet(\"Yash\")) "
   ]
  },
  {
   "cell_type": "code",
   "execution_count": 6,
   "id": "573ba72c-7091-4586-be4b-5bf44f19362d",
   "metadata": {},
   "outputs": [
    {
     "name": "stdout",
     "output_type": "stream",
     "text": [
      "Hello, Yash!\n",
      "Hello, Guest!\n"
     ]
    }
   ],
   "source": [
    "def greet(name=\"Guest\"):\n",
    "    return f\"Hello, {name}!\"\n",
    "\n",
    "\n",
    "print(greet(\"Yash\"))  \n",
    "print(greet())        \n"
   ]
  },
  {
   "cell_type": "code",
   "execution_count": 7,
   "id": "544fc586-705a-4139-b88d-3ce45fdecc94",
   "metadata": {},
   "outputs": [
    {
     "name": "stdout",
     "output_type": "stream",
     "text": [
      "10\n"
     ]
    }
   ],
   "source": [
    "def add(*args):\n",
    "    return sum(args)\n",
    "\n",
    "print(add(1, 2, 3, 4))  \n"
   ]
  },
  {
   "cell_type": "code",
   "execution_count": 8,
   "id": "d19d1f5b-4116-4b18-b803-f4ee110b67da",
   "metadata": {},
   "outputs": [
    {
     "name": "stdout",
     "output_type": "stream",
     "text": [
      "name: Yash\n",
      "age: 30\n",
      "city: New York\n"
     ]
    }
   ],
   "source": [
    "def print_info(**kwargs):\n",
    "    for key, value in kwargs.items():\n",
    "        print(f\"{key}: {value}\")\n",
    "\n",
    "print_info(name=\"Yash\", age=30, city=\"New York\")\n"
   ]
  },
  {
   "cell_type": "code",
   "execution_count": 10,
   "id": "e654b456-fd47-4bd8-8d6b-d6fa2da083ed",
   "metadata": {},
   "outputs": [
    {
     "name": "stdout",
     "output_type": "stream",
     "text": [
      "8\n"
     ]
    }
   ],
   "source": [
    "#4) What is the purpose of the `return` statement in a Python function?\n",
    "\n",
    "#The return statement in a Python function serves the purpose of sending a value (or values) back to the caller of the function. \n",
    "def add(a, b):\n",
    "    return a + b\n",
    "\n",
    "result = add(3, 5)\n",
    "print(result) "
   ]
  },
  {
   "cell_type": "code",
   "execution_count": 11,
   "id": "c4ba2485-3852-4dc9-b136-6cd917b44284",
   "metadata": {},
   "outputs": [
    {
     "name": "stdout",
     "output_type": "stream",
     "text": [
      "1\n",
      "2\n",
      "3\n",
      "4\n"
     ]
    }
   ],
   "source": [
    "#5) What are iterators in Python and how do they differ from iterables?\n",
    "# Iterables\n",
    "# An iterable is any Python object that can return its elements one at a time. \n",
    "# In other words, it's an object that can be looped over or iterated through. \n",
    "my_list = [1, 2, 3, 4] \n",
    "for item in my_list: \n",
    "    print(item)\n"
   ]
  },
  {
   "cell_type": "code",
   "execution_count": 12,
   "id": "c21aa04d-7026-4347-acef-4028d81be7dc",
   "metadata": {},
   "outputs": [
    {
     "name": "stdout",
     "output_type": "stream",
     "text": [
      "1\n",
      "2\n",
      "3\n"
     ]
    }
   ],
   "source": [
    "#An iterator is a Python object that represents a stream of data. It is an object that keeps track of its current position and\n",
    "#allows you to iterate through the elements, one at a time, until no more elements are available.\n",
    "my_list = [1, 2, 3]\n",
    "my_iterator = iter(my_list)  \n",
    "print(next(my_iterator)) \n",
    "print(next(my_iterator)) \n",
    "print(next(my_iterator)) \n"
   ]
  },
  {
   "cell_type": "code",
   "execution_count": 13,
   "id": "3ae09354-2773-4269-958f-bc8810898229",
   "metadata": {},
   "outputs": [
    {
     "name": "stdout",
     "output_type": "stream",
     "text": [
      "1\n",
      "2\n",
      "3\n"
     ]
    }
   ],
   "source": [
    "#6) Explain the concept of generators in Python and how they are defined.\n",
    "\n",
    "#A generator is a function that produces a sequence of results (values) lazily, meaning that it doesn't \n",
    "#return all the values at once but yields them one at a time, waiting until the next value is requested.\n",
    "\n",
    "def simple_generator():\n",
    "    yield 1\n",
    "    yield 2\n",
    "    yield 3\n",
    "\n",
    "gen = simple_generator() \n",
    "\n",
    "print(next(gen)) \n",
    "print(next(gen))  \n",
    "print(next(gen)) \n",
    "\n"
   ]
  },
  {
   "cell_type": "code",
   "execution_count": 14,
   "id": "51430e3c-8565-49aa-abc7-2ee752be6683",
   "metadata": {},
   "outputs": [],
   "source": [
    "#7)  What are the advantages of using generators over regular functions?\n",
    "\n",
    "# Regular Functions: Typically, regular functions that return lists or other collections need to allocate memory for the entire result. \n",
    "#For instance, creating a list of a million numbers consumes substantial memory.\n",
    "\n",
    "# Generators: They yield values one at a time and maintain only the state necessary to produce the next value, significantly reducing memory usage.\n",
    "def large_sequence():\n",
    "    for i in range(1000000):\n",
    "        yield i\n",
    "\n",
    "gen = large_sequence()\n"
   ]
  },
  {
   "cell_type": "code",
   "execution_count": 15,
   "id": "e8e28bb3-1d40-4fe1-b696-fe95bd6012d1",
   "metadata": {},
   "outputs": [
    {
     "data": {
      "text/plain": [
       "' \\nLazy Evaluation: Values are computed only when needed, which can be more efficient.\\nInfinite Sequences: Generators can handle potentially infinite sequences.\\nImproved Performance: Faster and more memory-efficient when working with large data.\\nSimpler Code: Cleaner and more manageable code for complex data processing tasks.\\nInterruption and Resumption: Capable of pausing and resuming, which is useful for streaming data. \\n\\n'"
      ]
     },
     "execution_count": 15,
     "metadata": {},
     "output_type": "execute_result"
    }
   ],
   "source": [
    "''' \n",
    "Lazy Evaluation: Values are computed only when needed, which can be more efficient.\n",
    "Infinite Sequences: Generators can handle potentially infinite sequences.\n",
    "Improved Performance: Faster and more memory-efficient when working with large data.\n",
    "Simpler Code: Cleaner and more manageable code for complex data processing tasks.\n",
    "Interruption and Resumption: Capable of pausing and resuming, which is useful for streaming data. \n",
    "\n",
    "'''"
   ]
  },
  {
   "cell_type": "code",
   "execution_count": 16,
   "id": "01b1057e-9093-4e5b-a79d-daac37773d52",
   "metadata": {},
   "outputs": [
    {
     "name": "stdout",
     "output_type": "stream",
     "text": [
      "25\n"
     ]
    }
   ],
   "source": [
    "#8) What is a lambda function in Python and when is it typically used?\n",
    "\n",
    "#A lambda function in Python is a small, anonymous function defined using the lambda keyword. \n",
    "#It is used for creating short, throwaway functions without having to formally define them using the def keyword.\n",
    "\n",
    "square = lambda x: x ** 2\n",
    "\n",
    "print(square(5))  \n"
   ]
  },
  {
   "cell_type": "code",
   "execution_count": 17,
   "id": "2dfe02db-a6d0-4cc9-b3b8-e8f299319690",
   "metadata": {},
   "outputs": [
    {
     "name": "stdout",
     "output_type": "stream",
     "text": [
      "[1, 4, 9, 16, 25]\n"
     ]
    }
   ],
   "source": [
    "#9)  Explain the purpose and usage of the `map()` function in Python.\n",
    "#The map() function in Python is used to apply a given function to each item in an iterable (such as a list, tuple, or set) and return an iterable (specifically, a map object) of the results. \n",
    "#It is particularly useful for performing transformations on each element of a sequence without needing to write an explicit loop.\n",
    "def square(x):\n",
    "    return x ** 2\n",
    "\n",
    "numbers = [1, 2, 3, 4, 5]\n",
    "squared_numbers = map(square, numbers)\n",
    "\n",
    "print(list(squared_numbers)) \n"
   ]
  },
  {
   "cell_type": "code",
   "execution_count": 18,
   "id": "a9795b79-f180-41d1-a80e-424339e415e1",
   "metadata": {},
   "outputs": [
    {
     "name": "stdout",
     "output_type": "stream",
     "text": [
      "[1, 4, 9, 16]\n"
     ]
    }
   ],
   "source": [
    "#10)  What is the difference between `map()`, `reduce()`, and `filter()` functions in Python?\n",
    "# Map(): To apply a given function to each item in an iterable (such as a list or tuple) and return an iterable (a map object) of the results.\n",
    "numbers = [1, 2, 3, 4]\n",
    "squared = map(lambda x: x ** 2, numbers)\n",
    "print(list(squared))  "
   ]
  },
  {
   "cell_type": "code",
   "execution_count": 19,
   "id": "dd36504f-6bdd-48c6-b0bf-fdae2ee09416",
   "metadata": {},
   "outputs": [
    {
     "name": "stdout",
     "output_type": "stream",
     "text": [
      "[2, 4]\n"
     ]
    }
   ],
   "source": [
    "#Filter(): To filter elements from an iterable based on a function that returns True or False, and return an iterable (a filter object) of the elements for which the function returns True.\n",
    "numbers = [1, 2, 3, 4, 5]\n",
    "even_numbers = filter(lambda x: x % 2 == 0, numbers)\n",
    "print(list(even_numbers)) \n"
   ]
  },
  {
   "cell_type": "code",
   "execution_count": 20,
   "id": "5f19b2fd-f1d9-496a-be9c-282993d00743",
   "metadata": {},
   "outputs": [
    {
     "name": "stdout",
     "output_type": "stream",
     "text": [
      "24\n"
     ]
    }
   ],
   "source": [
    "#reduce():  To cumulatively apply a binary function (a function that takes two arguments) to the items of an iterable, reducing the iterable to a single value.\n",
    "\n",
    "from functools import reduce\n",
    "\n",
    "numbers = [1, 2, 3, 4]\n",
    "product = reduce(lambda x, y: x * y, numbers)\n",
    "print(product)"
   ]
  },
  {
   "cell_type": "code",
   "execution_count": 21,
   "id": "4b55eb2e-71b3-49f0-ac6c-9fc5f193515c",
   "metadata": {},
   "outputs": [
    {
     "name": "stdout",
     "output_type": "stream",
     "text": [
      "113\n"
     ]
    }
   ],
   "source": [
    "#11)  Using pen & Paper write the internal mechanism for sum operation using  reduce function on this given\n",
    "# list:[47,11,42,13]\n",
    "from functools import reduce\n",
    "list=[47,11,42,13]\n",
    "summ=reduce(lambda x,y:x+y,list)\n",
    "print(summ)"
   ]
  },
  {
   "cell_type": "code",
   "execution_count": null,
   "id": "c78756fc-a84c-4e8f-b7c0-dee6e5183814",
   "metadata": {},
   "outputs": [],
   "source": [
    "#Practice Questions"
   ]
  },
  {
   "cell_type": "code",
   "execution_count": 1,
   "id": "2aa839bb-b680-47f4-99fc-7538da7baaac",
   "metadata": {},
   "outputs": [
    {
     "name": "stdout",
     "output_type": "stream",
     "text": [
      "20\n"
     ]
    }
   ],
   "source": [
    "#1) Write a Python function that takes a list of numbers as input and returns the sum of all even numbers in the list.\n",
    "def sumofeven(lst):\n",
    "    sum=0\n",
    "    for i in lst:\n",
    "        if i%2==0:\n",
    "            sum+=i\n",
    "    return sum\n",
    "lst=[1,2,4,6,8]\n",
    "finalsum=sumofeven(lst)\n",
    "print(finalsum)"
   ]
  },
  {
   "cell_type": "code",
   "execution_count": 2,
   "id": "2cc18534-0a80-4857-9510-a55adefef2d7",
   "metadata": {},
   "outputs": [
    {
     "name": "stdout",
     "output_type": "stream",
     "text": [
      "!dlroW ,olleH\n"
     ]
    }
   ],
   "source": [
    "#2) Create a Python function that accepts a string and returns the reverse of that string.\n",
    "def reverse_string(s):\n",
    "    return s[::-1]\n",
    "\n",
    "input_string = \"Hello, World!\"\n",
    "print(reverse_string(input_string)) \n"
   ]
  },
  {
   "cell_type": "code",
   "execution_count": 7,
   "id": "95c2a627-86a6-4bcc-8bc0-fcb9c19bd3df",
   "metadata": {},
   "outputs": [
    {
     "name": "stdout",
     "output_type": "stream",
     "text": [
      "[1, 4, 9, 16, 25]\n"
     ]
    }
   ],
   "source": [
    "#3) . Implement a Python function that takes a list of integers and returns a new list containing the squares of each number.\n",
    "def findsqaure(x):\n",
    "     return [i ** 2 for i in x]\n",
    "lst=[1,2,3,4,5]\n",
    "lst=findsqaure(lst)\n",
    "print(lst)"
   ]
  },
  {
   "cell_type": "code",
   "execution_count": 10,
   "id": "45a5d56e-9331-47f9-a976-0ee110e77ce0",
   "metadata": {},
   "outputs": [
    {
     "name": "stdout",
     "output_type": "stream",
     "text": [
      "[2, 3, 5, 7, 11, 13, 17, 19, 23, 29, 31, 37, 41, 43, 47, 53, 59, 61, 67, 71, 73, 79, 83, 89, 97, 101, 103, 107, 109, 113, 127, 131, 137, 139, 149, 151, 157, 163, 167, 173, 179, 181, 191, 193, 197, 199]\n"
     ]
    }
   ],
   "source": [
    "#4)  Write a Python function that checks if a given number is prime or not from 1 to 200\n",
    "def is_prime(n):\n",
    "    if n <= 1:\n",
    "        return False\n",
    "    for i in range(2, int(n ** 0.5) + 1):\n",
    "        if n % i == 0:\n",
    "            return False\n",
    "    return True\n",
    "\n",
    "def check_primes_upto_200():\n",
    "    primes = []\n",
    "    for num in range(1, 201): \n",
    "        if is_prime(num):\n",
    "            primes.append(num)\n",
    "    return primes\n",
    "\n",
    "primes = check_primes_upto_200()\n",
    "print(primes)\n",
    "\n"
   ]
  },
  {
   "cell_type": "code",
   "execution_count": 11,
   "id": "a31bac8a-b1c3-461e-b27b-cfb5c82100e4",
   "metadata": {},
   "outputs": [
    {
     "name": "stdout",
     "output_type": "stream",
     "text": [
      "0\n",
      "1\n",
      "1\n",
      "2\n",
      "3\n",
      "5\n",
      "8\n",
      "13\n",
      "21\n",
      "34\n"
     ]
    }
   ],
   "source": [
    "#5)  Create an iterator class in Python that generates the Fibonacci sequence up to a specified number of terms.\n",
    "class FibonacciIterator:\n",
    "    def __init__(self, n_terms):\n",
    "        self.n_terms = n_terms  \n",
    "        self.current_term = 0  \n",
    "        self.a, self.b = 0, 1  \n",
    "        \n",
    "    def __iter__(self):\n",
    "        return self \n",
    "\n",
    "    def __next__(self):\n",
    "        if self.current_term >= self.n_terms:  \n",
    "            raise StopIteration\n",
    "        \n",
    "        fib_number = self.a\n",
    "        self.a, self.b = self.b, self.a + self.b  \n",
    "        self.current_term += 1\n",
    "        \n",
    "        return fib_number\n",
    "\n",
    "fib_sequence = FibonacciIterator(10) \n",
    "for num in fib_sequence:\n",
    "    print(num)\n"
   ]
  },
  {
   "cell_type": "code",
   "execution_count": 13,
   "id": "aecfbd7b-e8de-4e1a-a571-75c6848988c1",
   "metadata": {},
   "outputs": [
    {
     "name": "stdout",
     "output_type": "stream",
     "text": [
      "2\n",
      "4\n",
      "8\n",
      "16\n",
      "32\n"
     ]
    }
   ],
   "source": [
    "#6)  Write a generator function in Python that yields the powers of 2 up to a given exponent?\n",
    "def findpoweroftwo(n):\n",
    "    for i in range(1,n+1):\n",
    "        yield 2**i\n",
    "\n",
    "ans=findpoweroftwo(5)\n",
    "for i in ans:\n",
    "    print(i)"
   ]
  },
  {
   "cell_type": "code",
   "execution_count": 15,
   "id": "09c749d9-b7fc-4922-ac66-72083aed1456",
   "metadata": {},
   "outputs": [],
   "source": [
    "#7)  Implement a generator function that reads a file line by line and yields each line as a string?\n",
    "def read_file_line_by_line(file_path):\n",
    "    with open(file_path, 'r') as file: \n",
    "        for line in file:\n",
    "            yield line.strip()  \n",
    "\n",
    "for line in read_file_line_by_line(\"example.txt\"):\n",
    "    print(line)\n"
   ]
  },
  {
   "cell_type": "code",
   "execution_count": 16,
   "id": "129b60b2-7e54-433d-9c23-1da13feac368",
   "metadata": {},
   "outputs": [
    {
     "name": "stdout",
     "output_type": "stream",
     "text": [
      "[(2, 1), (3, 2), (1, 5), (4, 8)]\n"
     ]
    }
   ],
   "source": [
    "#8) Use a lambda function in Python to sort a list of tuples based on the second element of each tuple?\n",
    "tuples_list = [(1, 5), (3, 2), (4, 8), (2, 1)]\n",
    "\n",
    "\n",
    "sorted_list = sorted(tuples_list, key=lambda x: x[1])\n",
    "\n",
    "print(sorted_list)\n"
   ]
  },
  {
   "cell_type": "code",
   "execution_count": 17,
   "id": "ae0a026f-4bea-49a7-bca3-b476f11ab236",
   "metadata": {},
   "outputs": [
    {
     "name": "stdout",
     "output_type": "stream",
     "text": [
      "[32.0, 68.0, 98.6, 212.0]\n"
     ]
    }
   ],
   "source": [
    "#9) Write a Python program that uses `map()` to convert a list of temperatures from Celsius to Fahrenheit?\n",
    "def convertfahr(c):\n",
    "    return (c * 9/5) + 32\n",
    "lst=[0,20,37,100]\n",
    "fc=list(map(convertfahr,lst))\n",
    "print(fc)"
   ]
  },
  {
   "cell_type": "code",
   "execution_count": 22,
   "id": "58ff3612-3256-4af6-88bd-744b881c74d4",
   "metadata": {},
   "outputs": [
    {
     "name": "stdout",
     "output_type": "stream",
     "text": [
      "I m Ysh Jn\n"
     ]
    }
   ],
   "source": [
    "#10) Create a Python program that uses `filter()` to remove all the vowels from a given string?\n",
    "def removevowel(x):\n",
    "    if x not in ['a','e','i','o','u']:\n",
    "        return x\n",
    "str=\"I am Yash Jain\"\n",
    "ans=''.join(filter(removevowel,str))\n",
    "print(ans)"
   ]
  },
  {
   "cell_type": "code",
   "execution_count": null,
   "id": "c43f40b0-e91c-4d17-a87b-898f583444dc",
   "metadata": {},
   "outputs": [],
   "source": [
    "#11) Write a Python program, which returns a list with 2-tuples. Each tuple consists of the order number and the\n",
    "#product of the price per item and the quantity. The product should be increased by 10,- € if the value of the\n",
    "#order is smaller than 100,00 €.\n",
    "\n",
    "# Write a Python program using lambda and map."
   ]
  }
 ],
 "metadata": {
  "kernelspec": {
   "display_name": "Python 3 (ipykernel)",
   "language": "python",
   "name": "python3"
  },
  "language_info": {
   "codemirror_mode": {
    "name": "ipython",
    "version": 3
   },
   "file_extension": ".py",
   "mimetype": "text/x-python",
   "name": "python",
   "nbconvert_exporter": "python",
   "pygments_lexer": "ipython3",
   "version": "3.10.8"
  }
 },
 "nbformat": 4,
 "nbformat_minor": 5
}
